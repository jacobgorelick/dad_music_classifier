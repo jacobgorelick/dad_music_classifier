{
 "cells": [
  {
   "cell_type": "markdown",
   "id": "b5cac3d1",
   "metadata": {},
   "source": [
    "# Dad Music Classifier"
   ]
  },
  {
   "cell_type": "markdown",
   "id": "3771581e",
   "metadata": {},
   "source": [
    "## Imports"
   ]
  },
  {
   "cell_type": "code",
   "execution_count": 21,
   "id": "f6cd6140",
   "metadata": {},
   "outputs": [],
   "source": [
    "import pandas as pd\n",
    "import matplotlib.pyplot as plt\n",
    "import numpy as np\n",
    "\n",
    "import torch\n",
    "import torch.nn as nn\n",
    "import torch.optim as optim\n",
    "from torch.utils.data import TensorDataset, DataLoader\n",
    "\n",
    "from sklearn.model_selection import train_test_split\n",
    "from sklearn.utils import resample\n",
    "from sklearn.metrics import (accuracy_score, precision_score, recall_score, f1_score, roc_auc_score, confusion_matrix, roc_curve)"
   ]
  },
  {
   "cell_type": "markdown",
   "id": "cc88d70c",
   "metadata": {},
   "source": [
    "## Global Variables"
   ]
  },
  {
   "cell_type": "code",
   "execution_count": null,
   "id": "da8a0724",
   "metadata": {},
   "outputs": [
    {
     "name": "stdout",
     "output_type": "stream",
     "text": [
      "Using device: cuda\n"
     ]
    }
   ],
   "source": [
    "seed = 42 # Keeping the seed as 42 for better reproducability\n",
    "use_gpu_if_available = True # Can utilize cuda for faster training, otherwise use cpu\n",
    "\n",
    "device = torch.device('cuda' if ( torch.cuda.is_available() and use_gpu_if_available ) else 'cpu')\n",
    "print('Using device:', device)"
   ]
  },
  {
   "cell_type": "markdown",
   "id": "51bdcda4",
   "metadata": {},
   "source": [
    "## Classifier"
   ]
  },
  {
   "cell_type": "markdown",
   "id": "5e71aafb",
   "metadata": {},
   "source": [
    "### Load Data"
   ]
  },
  {
   "cell_type": "code",
   "execution_count": null,
   "id": "73bc8a5c",
   "metadata": {},
   "outputs": [
    {
     "name": "stdout",
     "output_type": "stream",
     "text": [
      "Data sent to: cuda\n"
     ]
    }
   ],
   "source": [
    "# Load and clean the data\n",
    "df = pd.read_csv(rf'data.csv')\n",
    "\n",
    "# The data is slightly imbalanced... there is roughly 33% more dad music in the data, so the model would be biased towards classifying a song as dad music without resampling\n",
    "df_majority = df[df['is_dad_music'] == 1]\n",
    "df_minority = df[df['is_dad_music'] == 0]\n",
    "\n",
    "df_majority_downsampled = resample(df_majority, replace=False, n_samples=len(df_minority), random_state=seed)\n",
    "df_balanced = pd.concat([df_majority_downsampled, df_minority])\n",
    "\n",
    "# Separate features and target\n",
    "X = df_balanced.drop(columns=['is_dad_music']).values\n",
    "y = df_balanced['is_dad_music'].values\n",
    "\n",
    "# Split off the training data (70% of the total data)\n",
    "X_train, X_temp, y_train, y_temp = train_test_split(X, y, test_size=0.3, random_state=seed, stratify=y)\n",
    "\n",
    "# Split the remaining data into a validation set and test set (15% of the total data each)\n",
    "X_val, X_test, y_val, y_test = train_test_split(X_temp, y_temp, test_size=0.5, random_state=seed, stratify=y_temp)\n",
    "\n",
    "# Convert to PyTorch tensors\n",
    "train_X = torch.tensor(X_train, dtype=torch.float32)\n",
    "train_y = torch.tensor(y_train, dtype=torch.float32)\n",
    "\n",
    "val_X = torch.tensor(X_val, dtype=torch.float32)\n",
    "val_y = torch.tensor(y_val, dtype=torch.float32)\n",
    "\n",
    "test_X = torch.tensor(X_test, dtype=torch.float32)\n",
    "test_y = torch.tensor(y_test, dtype=torch.float32)\n",
    "\n",
    "# Use the device specified by the global variable ('cuda' for faster training, or 'cpu' if cuda isn't available)\n",
    "train_X = train_X.to(device)\n",
    "train_y = train_y.to(device)\n",
    "\n",
    "val_X = val_X.to(device)\n",
    "val_y = val_y.to(device)\n",
    "\n",
    "test_X = test_X.to(device)\n",
    "test_y = test_y.to(device)\n",
    "print('Data sent to:', device)"
   ]
  },
  {
   "cell_type": "markdown",
   "id": "b140653e",
   "metadata": {},
   "source": [
    "### Model Class"
   ]
  },
  {
   "cell_type": "code",
   "execution_count": null,
   "id": "ff03aa9d",
   "metadata": {},
   "outputs": [],
   "source": [
    "'''\n",
    "I'm using a neural net with 4 layers, it takes in 10 input features, normalizes them with BatchNorm1d,\n",
    "then passes them to a layer with 128 nodes. I use a ReLU activation function, BatchNorm1d, and Dropout after\n",
    "each hidden layer, until it is passed to the final output layer, which condenses the 16 features into 1, and\n",
    "uses Sigmoid to get a value between 0 and 1 representing the probability that the song is dad music. The larger\n",
    "the value, the more confident the model is that the song is dad music. Any probability below 0.5 is labeled as\n",
    "NOT dad music, and any probability 0.5 or higher is labeled as dad music.\n",
    "\n",
    "The network has the following structure: 10 input features -> 128 -> 32 -> 16 -> 1 (probability between 0 and 1\n",
    "that the song is dad music).\n",
    "'''\n",
    "\n",
    "class DadMusicClassifier(nn.Module):\n",
    "    def __init__(self):\n",
    "        super(DadMusicClassifier, self).__init__()\n",
    "\n",
    "        self.network = nn.Sequential(\n",
    "\n",
    "            nn.BatchNorm1d(10), # Normalize the inputs since I don't do any preprocessing\n",
    "            nn.Linear( in_features = 10, out_features = 128 ),\n",
    "            nn.ReLU(),\n",
    "            nn.BatchNorm1d(128),\n",
    "            nn.Dropout(0.5),\n",
    "\n",
    "\n",
    "            nn.Linear( in_features = 128, out_features = 32 ),\n",
    "            nn.ReLU(),\n",
    "            nn.BatchNorm1d(32),\n",
    "            nn.Dropout(0.5),\n",
    "\n",
    "\n",
    "            nn.Linear( in_features = 32, out_features = 16 ),\n",
    "            nn.ReLU(),\n",
    "            nn.BatchNorm1d(16),\n",
    "            nn.Dropout(0.5),\n",
    "\n",
    "\n",
    "            nn.Linear( in_features = 16, out_features = 1 ),\n",
    "            nn.Sigmoid() # Ensure the final values are between 0 and 1\n",
    "\n",
    "        )\n",
    "\n",
    "    def forward(self, input_tensor):\n",
    "        return self.network(input_tensor)"
   ]
  },
  {
   "cell_type": "markdown",
   "id": "5f3e7cac",
   "metadata": {},
   "source": [
    "### Training Function"
   ]
  },
  {
   "cell_type": "code",
   "execution_count": null,
   "id": "708b2503",
   "metadata": {},
   "outputs": [],
   "source": [
    "def train_model(train_X, train_y, val_X, val_y, model, num_epochs=50, batch_size=32, alpha=0.001, weight_decay=0.0005):\n",
    "\n",
    "    loss_function = nn.BCELoss() # It is a binary classification... dad music or not dad music, so BCELoss\n",
    "\n",
    "    optimizer = optim.Adam( model.parameters(), lr = alpha, weight_decay=weight_decay )\n",
    "\n",
    "    # Utilize DataLoader to get batches\n",
    "    train_dataset = TensorDataset( train_X, train_y )\n",
    "    train_loader = DataLoader ( train_dataset, batch_size, shuffle=True )\n",
    "\n",
    "    val_dataset = TensorDataset( val_X, val_y )\n",
    "    val_loader = DataLoader ( val_dataset, batch_size, shuffle=True )\n",
    "\n",
    "    print(f'Epoch\\t\\tTrain Loss\\t\\t Val Loss\\t\\t Train Acc\\t\\t  Val Acc')\n",
    "\n",
    "    # Training loop\n",
    "    for epoch in range(num_epochs):\n",
    "\n",
    "        total_train_loss = 0\n",
    "        model.train()\n",
    "\n",
    "        for X_batch_train, y_batch_train in train_loader:\n",
    "\n",
    "            optimizer.zero_grad()\n",
    "\n",
    "            outputs = model( X_batch_train ).squeeze()\n",
    "\n",
    "            train_loss = loss_function( outputs, y_batch_train )\n",
    "\n",
    "            train_loss.backward()\n",
    "\n",
    "            optimizer.step()\n",
    "\n",
    "            total_train_loss += train_loss.item()\n",
    "\n",
    "        model.eval()\n",
    "\n",
    "        # Get the validation loss and the accuracies to display\n",
    "        with torch.no_grad():\n",
    "\n",
    "            total_val_loss = 0\n",
    "\n",
    "            for X_batch_val, y_batch_val in val_loader:\n",
    "                val_outputs = model( X_batch_val ).squeeze()\n",
    "                total_val_loss += loss_function( val_outputs, y_batch_val ).item()\n",
    "\n",
    "            train_accuracy = ( torch.sum( torch.abs( model( train_X ).squeeze() - train_y ) < 0.5 ) / ( train_y.shape[0] ) ).item()\n",
    "            val_accuracy = ( torch.sum( torch.abs( model( val_X ).squeeze() - val_y ) < 0.5 ) / ( val_y.shape[0] ) ).item()\n",
    "\n",
    "        # Display the losses and the accuracies\n",
    "        print(f'{epoch+1}/{num_epochs} \\t {total_train_loss:17.4f} \\t {total_val_loss:16.4f} \\t {train_accuracy:17.4f} \\t {val_accuracy:16.4f}')"
   ]
  },
  {
   "cell_type": "markdown",
   "id": "7622b0e8",
   "metadata": {},
   "source": [
    "### Evaluation Function"
   ]
  },
  {
   "cell_type": "code",
   "execution_count": null,
   "id": "b4d3ba96",
   "metadata": {},
   "outputs": [],
   "source": [
    "def evaluate_model(model, X_tensor, y_tensor, plot_roc=True, title=\"Model Evaluation\"):\n",
    "    model.eval()\n",
    "    with torch.no_grad():\n",
    "        y_probs = model(X_tensor).squeeze()\n",
    "        y_preds = (y_probs >= 0.5).int()\n",
    "\n",
    "    y_true = y_tensor.int().cpu().numpy()\n",
    "    y_preds_np = y_preds.cpu().numpy()\n",
    "    y_probs_np = y_probs.cpu().numpy()\n",
    "\n",
    "    # Compute metrics\n",
    "    accuracy = accuracy_score(y_true, y_preds_np)\n",
    "    precision = precision_score(y_true, y_preds_np)\n",
    "    recall = recall_score(y_true, y_preds_np)\n",
    "    f1 = f1_score(y_true, y_preds_np)\n",
    "    roc_auc = roc_auc_score(y_true, y_probs_np)\n",
    "    conf_matrix = confusion_matrix(y_true, y_preds_np)\n",
    "\n",
    "    # Print metrics\n",
    "    print(f\"{title}\")\n",
    "    print(f\"Accuracy:  {accuracy:.4f}\")\n",
    "    print(f\"Precision: {precision:.4f}\")\n",
    "    print(f\"Recall:    {recall:.4f}\")\n",
    "    print(f\"F1 Score:  {f1:.4f}\")\n",
    "    print(f\"ROC-AUC:   {roc_auc:.4f}\")\n",
    "    print(\"Confusion Matrix:\\n\", conf_matrix)\n",
    "\n",
    "    # Plot ROC Curve\n",
    "    if plot_roc:\n",
    "        fpr, tpr, _ = roc_curve(y_true, y_probs_np)\n",
    "        plt.figure()\n",
    "        plt.plot(fpr, tpr, label=f\"AUC = {roc_auc:.2f}\")\n",
    "        plt.plot([0, 1], [0, 1], linestyle=\"--\", color=\"gray\")\n",
    "        plt.xlabel(\"False Positive Rate\")\n",
    "        plt.ylabel(\"True Positive Rate\")\n",
    "        plt.title(\"ROC Curve\")\n",
    "        plt.legend()\n",
    "        plt.grid(True)\n",
    "        plt.show()\n",
    "\n",
    "def evaluate_model_compare(model, X_tensor_1, X_tensor_2, y_tensor_1, y_tensor_2, title=\"Model Evaluation\"):\n",
    "    model.eval()\n",
    "    with torch.no_grad():\n",
    "        y_probs_1 = model(X_tensor_1).squeeze()\n",
    "        y_preds_1 = (y_probs_1 >= 0.5).int()\n",
    "\n",
    "        y_probs_2 = model(X_tensor_2).squeeze()\n",
    "        y_preds_2 = (y_probs_2 >= 0.5).int()\n",
    "\n",
    "    y_true_1 = y_tensor_1.int().cpu().numpy()\n",
    "    y_preds_1_np = y_preds_1.cpu().numpy()\n",
    "    y_probs_1_np = y_probs_1.cpu().numpy()\n",
    "\n",
    "    y_true_2 = y_tensor_2.int().cpu().numpy()\n",
    "    y_preds_2_np = y_preds_2.cpu().numpy()\n",
    "    y_probs_2_np = y_probs_2.cpu().numpy()\n",
    "\n",
    "    # Compute metrics\n",
    "    accuracy_1 = accuracy_score(y_true_1, y_preds_1_np)\n",
    "    precision_1 = precision_score(y_true_1, y_preds_1_np)\n",
    "    recall_1 = recall_score(y_true_1, y_preds_1_np)\n",
    "    f1_1 = f1_score(y_true_1, y_preds_1_np)\n",
    "    roc_auc_1 = roc_auc_score(y_true_1, y_probs_1_np)\n",
    "    conf_matrix_1 = confusion_matrix(y_true_1, y_preds_1_np)\n",
    "\n",
    "    accuracy_2 = accuracy_score(y_true_2, y_preds_2_np)\n",
    "    precision_2 = precision_score(y_true_2, y_preds_2_np)\n",
    "    recall_2 = recall_score(y_true_2, y_preds_2_np)\n",
    "    f1_2 = f1_score(y_true_2, y_preds_2_np)\n",
    "    roc_auc_2 = roc_auc_score(y_true_2, y_probs_2_np)\n",
    "    conf_matrix_2 = confusion_matrix(y_true_2, y_preds_2_np)\n",
    "\n",
    "    # Print metrics\n",
    "    print(f\"{title}\")\n",
    "    print(\"             Train  vs.  Validation\")\n",
    "    print(f\"Accuracy:    {accuracy_1:.4f} \\t {accuracy_2:.4f}\")\n",
    "    print(f\"Precision:   {precision_1:.4f} \\t {precision_2:.4f}\")\n",
    "    print(f\"Recall:      {recall_1:.4f} \\t {recall_2:.4f}\")\n",
    "    print(f\"F1 Score:    {f1_1:.4f} \\t {f1_2:.4f}\")\n",
    "    print(f\"ROC-AUC:     {roc_auc_1:.4f} \\t {roc_auc_2:.4f}\")\n",
    "    print(\"\\nConfusion Matrices:\")\n",
    "    print(\"Train:\\n\", conf_matrix_1)\n",
    "    print(\"Validation:\\n\", conf_matrix_2)"
   ]
  },
  {
   "cell_type": "markdown",
   "id": "5853dd8d",
   "metadata": {},
   "source": [
    "## Training"
   ]
  },
  {
   "cell_type": "code",
   "execution_count": 12,
   "id": "300a60aa",
   "metadata": {},
   "outputs": [
    {
     "data": {
      "text/plain": [
       "DadMusicClassifier(\n",
       "  (network): Sequential(\n",
       "    (0): BatchNorm1d(10, eps=1e-05, momentum=0.1, affine=True, track_running_stats=True)\n",
       "    (1): Linear(in_features=10, out_features=128, bias=True)\n",
       "    (2): ReLU()\n",
       "    (3): BatchNorm1d(128, eps=1e-05, momentum=0.1, affine=True, track_running_stats=True)\n",
       "    (4): Dropout(p=0.5, inplace=False)\n",
       "    (5): Linear(in_features=128, out_features=32, bias=True)\n",
       "    (6): ReLU()\n",
       "    (7): BatchNorm1d(32, eps=1e-05, momentum=0.1, affine=True, track_running_stats=True)\n",
       "    (8): Dropout(p=0.5, inplace=False)\n",
       "    (9): Linear(in_features=32, out_features=16, bias=True)\n",
       "    (10): ReLU()\n",
       "    (11): BatchNorm1d(16, eps=1e-05, momentum=0.1, affine=True, track_running_stats=True)\n",
       "    (12): Dropout(p=0.5, inplace=False)\n",
       "    (13): Linear(in_features=16, out_features=1, bias=True)\n",
       "    (14): Sigmoid()\n",
       "  )\n",
       ")"
      ]
     },
     "execution_count": 12,
     "metadata": {},
     "output_type": "execute_result"
    }
   ],
   "source": [
    "model = DadMusicClassifier()\n",
    "model.to( device = device )"
   ]
  },
  {
   "cell_type": "code",
   "execution_count": 13,
   "id": "6c0557be",
   "metadata": {},
   "outputs": [
    {
     "name": "stdout",
     "output_type": "stream",
     "text": [
      "Epoch\t\tTrain Loss\t\t Val Loss\t\t Train Acc\t\t  Val Acc\n",
      "1/50 \t           38.9428 \t           6.5652 \t            0.8939 \t           0.8227\n",
      "2/50 \t           27.0857 \t           4.9884 \t            0.9202 \t           0.8659\n",
      "3/50 \t           22.0794 \t           4.0983 \t            0.9372 \t           0.8932\n",
      "4/50 \t           21.0446 \t           3.7193 \t            0.9367 \t           0.8955\n",
      "5/50 \t           17.8256 \t           3.6946 \t            0.9353 \t           0.9023\n",
      "6/50 \t           17.7534 \t           3.3455 \t            0.9416 \t           0.9136\n",
      "7/50 \t           17.9584 \t           3.4142 \t            0.9416 \t           0.9068\n",
      "8/50 \t           17.4031 \t           3.2809 \t            0.9426 \t           0.9091\n",
      "9/50 \t           16.9024 \t           3.1108 \t            0.9445 \t           0.9045\n",
      "10/50 \t           16.0428 \t           3.2917 \t            0.9411 \t           0.9091\n",
      "11/50 \t           16.3749 \t           3.0552 \t            0.9445 \t           0.9068\n",
      "12/50 \t           15.0775 \t           3.1382 \t            0.9436 \t           0.9136\n",
      "13/50 \t           15.7767 \t           3.3349 \t            0.9401 \t           0.9023\n",
      "14/50 \t           15.8603 \t           2.9005 \t            0.9470 \t           0.9091\n",
      "15/50 \t           15.0981 \t           2.9789 \t            0.9470 \t           0.9114\n",
      "16/50 \t           16.3932 \t           3.1037 \t            0.9470 \t           0.9091\n",
      "17/50 \t           15.1113 \t           3.1516 \t            0.9465 \t           0.9114\n",
      "18/50 \t           15.3036 \t           3.0311 \t            0.9445 \t           0.9136\n",
      "19/50 \t           14.9478 \t           2.9365 \t            0.9455 \t           0.9159\n",
      "20/50 \t           14.6396 \t           3.1212 \t            0.9460 \t           0.9068\n",
      "21/50 \t           15.2124 \t           2.9305 \t            0.9484 \t           0.9159\n",
      "22/50 \t           16.0360 \t           3.8484 \t            0.9319 \t           0.8909\n",
      "23/50 \t           14.8219 \t           2.9789 \t            0.9494 \t           0.9136\n",
      "24/50 \t           16.7286 \t           3.0192 \t            0.9494 \t           0.9068\n",
      "25/50 \t           14.8279 \t           2.8709 \t            0.9513 \t           0.9045\n",
      "26/50 \t           15.7729 \t           2.8526 \t            0.9518 \t           0.9045\n",
      "27/50 \t           14.2644 \t           3.1267 \t            0.9504 \t           0.9023\n",
      "28/50 \t           14.7274 \t           3.1953 \t            0.9484 \t           0.9068\n",
      "29/50 \t           14.5485 \t           3.0410 \t            0.9489 \t           0.9068\n",
      "30/50 \t           13.8447 \t           2.8962 \t            0.9543 \t           0.9068\n",
      "31/50 \t           13.9902 \t           3.0144 \t            0.9509 \t           0.9091\n",
      "32/50 \t           14.5026 \t           3.2137 \t            0.9494 \t           0.9023\n",
      "33/50 \t           14.2998 \t           3.5421 \t            0.9416 \t           0.9000\n",
      "34/50 \t           13.3933 \t           2.9613 \t            0.9567 \t           0.9091\n",
      "35/50 \t           14.6540 \t           2.9248 \t            0.9509 \t           0.9068\n",
      "36/50 \t           13.6126 \t           3.0486 \t            0.9543 \t           0.9023\n",
      "37/50 \t           14.7011 \t           3.1267 \t            0.9533 \t           0.9068\n",
      "38/50 \t           13.3890 \t           3.0378 \t            0.9543 \t           0.9068\n",
      "39/50 \t           14.2922 \t           3.0938 \t            0.9538 \t           0.9091\n",
      "40/50 \t           14.6604 \t           3.4099 \t            0.9460 \t           0.8977\n",
      "41/50 \t           15.0616 \t           2.9218 \t            0.9547 \t           0.9045\n",
      "42/50 \t           15.1015 \t           3.3526 \t            0.9484 \t           0.8977\n",
      "43/50 \t           15.3204 \t           2.9810 \t            0.9577 \t           0.9023\n",
      "44/50 \t           13.2463 \t           2.9783 \t            0.9567 \t           0.9045\n",
      "45/50 \t           12.6286 \t           3.0279 \t            0.9547 \t           0.9114\n",
      "46/50 \t           13.3451 \t           2.8650 \t            0.9552 \t           0.9205\n",
      "47/50 \t           13.4255 \t           3.4123 \t            0.9513 \t           0.9023\n",
      "48/50 \t           13.4383 \t           3.0598 \t            0.9538 \t           0.9068\n",
      "49/50 \t           12.5192 \t           2.9534 \t            0.9586 \t           0.9045\n",
      "50/50 \t           13.3827 \t           2.8275 \t            0.9557 \t           0.9227\n",
      "\n",
      "Model Evaluation\n",
      "             Train  vs.  Validation\n",
      "Accuracy:    0.9557 \t 0.9227\n",
      "Precision:   0.9616 \t 0.9429\n",
      "Recall:      0.9494 \t 0.9000\n",
      "F1 Score:    0.9555 \t 0.9209\n",
      "ROC-AUC:     0.9884 \t 0.9752\n",
      "\n",
      "Confusion Matrices:\n",
      "Train:\n",
      " [[988  39]\n",
      " [ 52 976]]\n",
      "Validation:\n",
      " [[208  12]\n",
      " [ 22 198]]\n"
     ]
    }
   ],
   "source": [
    "num_epochs = 50\n",
    "batch_size = 32\n",
    "alpha = 0.001\n",
    "weight_decay = 0.0005\n",
    "\n",
    "train_model(train_X, train_y, val_X, val_y, model, num_epochs, batch_size, alpha, weight_decay)\n",
    "print(\"\")\n",
    "evaluate_model_compare(model, train_X, val_X, train_y, val_y)"
   ]
  },
  {
   "cell_type": "markdown",
   "id": "69c31ade",
   "metadata": {},
   "source": [
    "### Evaluate Model on Test Set"
   ]
  },
  {
   "cell_type": "code",
   "execution_count": 14,
   "id": "b857316e",
   "metadata": {},
   "outputs": [
    {
     "name": "stdout",
     "output_type": "stream",
     "text": [
      "Test Set Evaluation\n",
      "Accuracy:  0.9478\n",
      "Precision: 0.9498\n",
      "Recall:    0.9455\n",
      "F1 Score:  0.9476\n",
      "ROC-AUC:   0.9831\n",
      "Confusion Matrix:\n",
      " [[210  11]\n",
      " [ 12 208]]\n"
     ]
    },
    {
     "data": {
      "image/png": "[encoded data removed]",
      "text/plain": [
       "<Figure size 640x480 with 1 Axes>"
      ]
     },
     "metadata": {},
     "output_type": "display_data"
    }
   ],
   "source": [
    "evaluate_model(model, test_X, test_y, title=\"Test Set Evaluation\")"
   ]
  },
  {
   "cell_type": "code",
   "execution_count": 15,
   "id": "5dc4cb3b",
   "metadata": {},
   "outputs": [],
   "source": [
    "torch.save(model.state_dict(), \"model_dad_classifier_trained\")"
   ]
  },
  {
   "cell_type": "markdown",
   "id": "19c0651d",
   "metadata": {},
   "source": [
    "## Load Trained Model"
   ]
  },
  {
   "cell_type": "code",
   "execution_count": 23,
   "id": "84e4657a",
   "metadata": {},
   "outputs": [
    {
     "data": {
      "text/plain": [
       "<All keys matched successfully>"
      ]
     },
     "execution_count": 23,
     "metadata": {},
     "output_type": "execute_result"
    }
   ],
   "source": [
    "model = DadMusicClassifier()\n",
    "model.to( device = device )\n",
    "\n",
    "model.load_state_dict(torch.load( \"model_dad_classifier_trained\" ))"
   ]
  },
  {
   "cell_type": "markdown",
   "id": "56ed3580",
   "metadata": {},
   "source": [
    "### Evaluate Model on Test Set"
   ]
  },
  {
   "cell_type": "code",
   "execution_count": 24,
   "id": "576c5abe",
   "metadata": {},
   "outputs": [
    {
     "name": "stdout",
     "output_type": "stream",
     "text": [
      "Test Set Evaluation\n",
      "Accuracy:  0.9478\n",
      "Precision: 0.9498\n",
      "Recall:    0.9455\n",
      "F1 Score:  0.9476\n",
      "ROC-AUC:   0.9831\n",
      "Confusion Matrix:\n",
      " [[210  11]\n",
      " [ 12 208]]\n"
     ]
    },
    {
     "data": {
      "image/png": "[encoded data removed]",
      "text/plain": [
       "<Figure size 640x480 with 1 Axes>"
      ]
     },
     "metadata": {},
     "output_type": "display_data"
    }
   ],
   "source": [
    "evaluate_model(model, test_X, test_y, title=\"Test Set Evaluation\")"
   ]
  }
 ],
 "metadata": {
  "kernelspec": {
   "display_name": "Python 3",
   "language": "python",
   "name": "python3"
  },
  "language_info": {
   "codemirror_mode": {
    "name": "ipython",
    "version": 3
   },
   "file_extension": ".py",
   "mimetype": "text/x-python",
   "name": "python",
   "nbconvert_exporter": "python",
   "pygments_lexer": "ipython3",
   "version": "3.12.10"
  }
 },
 "nbformat": 4,
 "nbformat_minor": 5
}
